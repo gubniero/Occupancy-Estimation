{
 "cells": [
  {
   "cell_type": "code",
   "execution_count": 8,
   "id": "ed02bc57-8cd2-4873-8996-164ae94d5d3f",
   "metadata": {},
   "outputs": [],
   "source": [
    "import pandas as pd\n",
    "import numpy as np\n",
    "import matplotlib.pyplot as plt\n",
    "import seaborn as sns\n",
    "from datetime import date, time, datetime, timedelta\n",
    "\n",
    "from sklearn.preprocessing import StandardScaler, RobustScaler, MinMaxScaler\n",
    "from sklearn.base import BaseEstimator, TransformerMixin\n",
    "\n",
    "from sklearn.pipeline import FeatureUnion\n",
    "from sklearn.pipeline import Pipeline\n",
    "from sklearn.compose import ColumnTransformer\n",
    "from sklearn.linear_model import LinearRegression\n",
    "\n",
    "from sklearn import metrics"
   ]
  },
  {
   "cell_type": "code",
   "execution_count": 9,
   "id": "5b445121-38f2-492f-b1b9-e44ab7d1a23e",
   "metadata": {},
   "outputs": [],
   "source": [
    "df = pd.read_csv(\"Occupancy_Estimation.csv\")\n",
    "\n",
    "df_test = df.loc[df['Date'] == '2017/12/22']\n",
    "\n",
    "df_train = df.loc[df['Date']!='2017/12/22']\n",
    "df_train = df_train.loc[df_train['Room_Occupancy_Count']!=0]\n",
    "\n",
    "x_train = df_train.drop(columns=['Room_Occupancy_Count'])\n",
    "y_train = df_train['Room_Occupancy_Count']\n",
    "\n",
    "#TESTE EM TODAS AS INTANCIAS\n",
    "x_test = df_test.drop(columns=['Room_Occupancy_Count'])\n",
    "y_test = df_test['Room_Occupancy_Count']\n",
    "#print(y_test)\n",
    "\n",
    "#separação dos data-set para teste de acurácia em cada classe (quando há determinado número de pessoas no quarto)\n",
    "\n",
    "zero = df_test.loc[df_test.Room_Occupancy_Count == 0]\n",
    "xzero_test = zero.drop(columns=['Room_Occupancy_Count'])\n",
    "yzero_test = zero['Room_Occupancy_Count']\n",
    "\n",
    "um = df_test.loc[df_test.Room_Occupancy_Count == 1]\n",
    "xum_test = um.drop(columns=['Room_Occupancy_Count'])\n",
    "yum_test = um['Room_Occupancy_Count']\n",
    "\n",
    "dois = df_test.loc[df_test.Room_Occupancy_Count == 2]\n",
    "xdois_test = dois.drop(columns=['Room_Occupancy_Count'])\n",
    "ydois_test = dois['Room_Occupancy_Count']\n",
    "\n",
    "tres = df_test.loc[df_test.Room_Occupancy_Count == 3]\n",
    "xtres_test = tres.drop(columns=['Room_Occupancy_Count'])\n",
    "ytres_test = tres['Room_Occupancy_Count']"
   ]
  },
  {
   "cell_type": "code",
   "execution_count": 10,
   "id": "158a453d-027a-410b-8405-b3a6471bbf98",
   "metadata": {},
   "outputs": [],
   "source": [
    "class TransformLinearRegression(LinearRegression):\n",
    "    def __init__(self, **kw):\n",
    "        super(TransformLinearRegression, self).__init__(**kw)\n",
    "        \n",
    "    def transform(self, x, y=None):\n",
    "        x = self.predict(x)\n",
    "        return np.reshape(x,(-1, 1))\n",
    "    \n",
    "    def fit_transform(self, x, y0):\n",
    "        self.fit(x, y0)\n",
    "        return self.transform(x)\n",
    "        "
   ]
  },
  {
   "cell_type": "code",
   "execution_count": 11,
   "id": "dc7288f3-03d5-4ff9-8db5-8d663acc43a2",
   "metadata": {},
   "outputs": [],
   "source": [
    "class PirAgg():\n",
    "    def __init__(self, line_agg):\n",
    "        self.line_agg = line_agg\n",
    "    \n",
    "    def fit(self, x, y=None):\n",
    "        return self\n",
    "    \n",
    "    def transform(self, x, y=None):\n",
    "        line_agg = self.line_agg\n",
    "        \n",
    "        df = pd.DataFrame({'pred':x[:,0], 'slope':x[:,1], 's6_pir':x[:,2], 's7_pir':x[:,3], 'date':x[:,4], 'time':x[:,5]})\n",
    "        \n",
    "        df_roll = df.sort_values(['date','time']).rolling(line_agg , min_periods=1, center=False).agg({'s6_pir':np.max, 's7_pir':np.max})\n",
    "        df_roll.rename(columns={'s6_pir':'s6_pir_roll', 's7_pir':'s7_pir_roll'}, inplace=True)\n",
    "        df_merge = pd.merge(df, df_roll, left_index=True, right_index=True)[['pred', 'slope', 's6_pir_roll', 's7_pir_roll', 'date', 'time']]\n",
    "        \n",
    "#        df_merge['pir'] = df_merge['s6_pir_roll'] + df_merge['s7_pir_roll'] >= 1\n",
    "        df_merge = df_merge.drop(columns=['date', 'time'])\n",
    "        df_merge = df_merge.astype(float)\n",
    "        x = df_merge.to_numpy()\n",
    "        \n",
    "        return x\n",
    "    \n",
    "    \n",
    "    def fit_transform(self, x, y=None):\n",
    "        self.fit(x)\n",
    "        return self.transform(x)\n"
   ]
  },
  {
   "cell_type": "code",
   "execution_count": 12,
   "id": "2401d5d4-4ee8-40f7-92d4-6fef4bfabeb6",
   "metadata": {},
   "outputs": [],
   "source": [
    "class SlopeRounder(BaseEstimator, TransformerMixin):\n",
    "    def __init__(self, slope_base, slope_value, base):\n",
    "        self.slope_base = slope_base\n",
    "        self.slope_value = slope_value\n",
    "        self.base = base\n",
    "    \n",
    "    def fit(self, x, y=None):\n",
    "        return self\n",
    "    \n",
    "    def transform(self, x, y=None):\n",
    "        \n",
    "        predictions = x[:,0]\n",
    "        \n",
    "#        x[:,0] = np.where(np.abs(x[:,0]%1-0.5) > self.base, x[:,0], np.where(x[:,2] + x[:,3] == 0, 0, x[:,0]))\n",
    "#        x[:,0] = np.where(x[:,0] < self.base, x[:,0], np.where(x[:,2] + x[:,3] == 0, 0, x[:,0]))\n",
    "\n",
    "        x[:,0] = np.where(x[:,0] >= self.base, np.where(x[:,2] + x[:,3] == 0, 0, x[:,0]), x[:,0])\n",
    "        \n",
    "        x[:,0] = np.where(np.abs(x[:,0]%1-0.5) > self.slope_base, np.round(x[:,0]),\n",
    "                                             np.where(x[:,1] > self.slope_value,\n",
    "                                                    np.ceil(x[:,0]),\n",
    "                                                    np.floor(x[:,0])))\n",
    "        \n",
    "        \n",
    "        return predictions\n",
    "    \n",
    "    def fit_transform(self, x, y=None):\n",
    "        self.fit(x)\n",
    "        return self.transform(x)"
   ]
  },
  {
   "cell_type": "code",
   "execution_count": 13,
   "id": "16f22a7f-c7d5-42b8-9b35-5b90418c0d36",
   "metadata": {},
   "outputs": [],
   "source": [
    "minmax_features = ['S1_Temp','S2_Temp','S3_Temp','S4_Temp']\n",
    "\n",
    "standard_features = ['S1_Light','S2_Light','S3_Light','S4_Light',\n",
    "                   'S1_Sound','S2_Sound','S3_Sound','S4_Sound']\n",
    "\n",
    "robust_features = ['S5_CO2']\n",
    "pir = ['PIR']\n",
    "\n",
    "column_transformer = ColumnTransformer([\n",
    "    ('std_scaler', StandardScaler(), standard_features),\n",
    "    ('minmax', MinMaxScaler(), minmax_features),\n",
    "    ('robust', RobustScaler(), robust_features),\n",
    "], remainder='drop')\n",
    "\n",
    "\n",
    "pipe = Pipeline(steps=[\n",
    "    ('preprocessor', column_transformer),\n",
    "    ('classifier', TransformLinearRegression()),\n",
    "])"
   ]
  },
  {
   "cell_type": "code",
   "execution_count": 14,
   "id": "9d00c7f6-6331-4095-ad96-6018b2ea4d64",
   "metadata": {},
   "outputs": [],
   "source": [
    "slope_col = ColumnTransformer([('slope','passthrough',['S5_CO2_Slope'])])\n",
    "pir_for_roll = ColumnTransformer([('s6 pir and s7 pir', 'passthrough',['S6_PIR', 'S7_PIR'])])\n",
    "date_time = ColumnTransformer([('date and time', 'passthrough',['Date', 'Time'])])\n",
    "\n",
    "regression_postprocess = [('pipeline', pipe), ('slope_column', slope_col), ('pir_for_roll',pir_for_roll), ('Date and time', date_time)]\n",
    "\n",
    "combined = FeatureUnion(regression_postprocess)\n"
   ]
  },
  {
   "cell_type": "code",
   "execution_count": 15,
   "id": "43aede79-5b02-439d-b142-b7f3afbf529b",
   "metadata": {},
   "outputs": [
    {
     "data": {
      "text/plain": [
       "0.9473324213406292"
      ]
     },
     "execution_count": 15,
     "metadata": {},
     "output_type": "execute_result"
    }
   ],
   "source": [
    "model = Pipeline(steps=[\n",
    "                        ('predictor', combined),\n",
    "                        ('pir',PirAgg(6)),\n",
    "                        ('slope rounder', SlopeRounder(0.25, 0.8, 3))\n",
    "])\n",
    "model = model.fit(x_train,y_train)\n",
    "out_frame = pd.DataFrame({'pred' : model.transform(x_test)})\n",
    "metrics.accuracy_score(out_frame,y_test)"
   ]
  },
  {
   "cell_type": "code",
   "execution_count": null,
   "id": "70418f41-b9eb-49b3-9238-6631a34fc986",
   "metadata": {},
   "outputs": [],
   "source": []
  }
 ],
 "metadata": {
  "kernelspec": {
   "display_name": "Python 3 (ipykernel)",
   "language": "python",
   "name": "python3"
  },
  "language_info": {
   "codemirror_mode": {
    "name": "ipython",
    "version": 3
   },
   "file_extension": ".py",
   "mimetype": "text/x-python",
   "name": "python",
   "nbconvert_exporter": "python",
   "pygments_lexer": "ipython3",
   "version": "3.10.7"
  },
  "vscode": {
   "interpreter": {
    "hash": "6d1f9a1b102ff038fe1ddebb960163cc1037825596c7e1cb83826c0ca4218e95"
   }
  }
 },
 "nbformat": 4,
 "nbformat_minor": 5
}
